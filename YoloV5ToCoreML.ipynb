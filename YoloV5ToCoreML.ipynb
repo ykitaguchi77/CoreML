{
  "nbformat": 4,
  "nbformat_minor": 0,
  "metadata": {
    "colab": {
      "provenance": [],
      "include_colab_link": true
    },
    "kernelspec": {
      "name": "python3",
      "display_name": "Python 3"
    },
    "language_info": {
      "name": "python"
    },
    "widgets": {
      "application/vnd.jupyter.widget-state+json": {
        "eb11e4f66a864b03a4dd7bdb09d8c63d": {
          "model_module": "@jupyter-widgets/controls",
          "model_name": "HBoxModel",
          "model_module_version": "1.5.0",
          "state": {
            "_dom_classes": [],
            "_model_module": "@jupyter-widgets/controls",
            "_model_module_version": "1.5.0",
            "_model_name": "HBoxModel",
            "_view_count": null,
            "_view_module": "@jupyter-widgets/controls",
            "_view_module_version": "1.5.0",
            "_view_name": "HBoxView",
            "box_style": "",
            "children": [
              "IPY_MODEL_a0e24d7b14ca4753a7f607e354925643",
              "IPY_MODEL_3f89cb87d8364fcc81384d3c3419dc1d",
              "IPY_MODEL_b961a07c2c45430f88122cb4b0f2dbea"
            ],
            "layout": "IPY_MODEL_0d29e85a17394ed79e840e7afc571679"
          }
        },
        "a0e24d7b14ca4753a7f607e354925643": {
          "model_module": "@jupyter-widgets/controls",
          "model_name": "HTMLModel",
          "model_module_version": "1.5.0",
          "state": {
            "_dom_classes": [],
            "_model_module": "@jupyter-widgets/controls",
            "_model_module_version": "1.5.0",
            "_model_name": "HTMLModel",
            "_view_count": null,
            "_view_module": "@jupyter-widgets/controls",
            "_view_module_version": "1.5.0",
            "_view_name": "HTMLView",
            "description": "",
            "description_tooltip": null,
            "layout": "IPY_MODEL_a1aff9b64237496fb6911fa19fab3dc3",
            "placeholder": "​",
            "style": "IPY_MODEL_9b2aaf828ee841fa86e12500bad288c4",
            "value": "100%"
          }
        },
        "3f89cb87d8364fcc81384d3c3419dc1d": {
          "model_module": "@jupyter-widgets/controls",
          "model_name": "FloatProgressModel",
          "model_module_version": "1.5.0",
          "state": {
            "_dom_classes": [],
            "_model_module": "@jupyter-widgets/controls",
            "_model_module_version": "1.5.0",
            "_model_name": "FloatProgressModel",
            "_view_count": null,
            "_view_module": "@jupyter-widgets/controls",
            "_view_module_version": "1.5.0",
            "_view_name": "ProgressView",
            "bar_style": "success",
            "description": "",
            "description_tooltip": null,
            "layout": "IPY_MODEL_daacccf339a542ebb14501bdc16f446b",
            "max": 14808437,
            "min": 0,
            "orientation": "horizontal",
            "style": "IPY_MODEL_eca34d8ae62740a2a19f5117ace15368",
            "value": 14808437
          }
        },
        "b961a07c2c45430f88122cb4b0f2dbea": {
          "model_module": "@jupyter-widgets/controls",
          "model_name": "HTMLModel",
          "model_module_version": "1.5.0",
          "state": {
            "_dom_classes": [],
            "_model_module": "@jupyter-widgets/controls",
            "_model_module_version": "1.5.0",
            "_model_name": "HTMLModel",
            "_view_count": null,
            "_view_module": "@jupyter-widgets/controls",
            "_view_module_version": "1.5.0",
            "_view_name": "HTMLView",
            "description": "",
            "description_tooltip": null,
            "layout": "IPY_MODEL_d582682572314383a2fa75037ebb4f45",
            "placeholder": "​",
            "style": "IPY_MODEL_8105c8e0612947c0bfce7e6fcf9d94e1",
            "value": " 14.1M/14.1M [00:00&lt;00:00, 5.81MB/s]"
          }
        },
        "0d29e85a17394ed79e840e7afc571679": {
          "model_module": "@jupyter-widgets/base",
          "model_name": "LayoutModel",
          "model_module_version": "1.2.0",
          "state": {
            "_model_module": "@jupyter-widgets/base",
            "_model_module_version": "1.2.0",
            "_model_name": "LayoutModel",
            "_view_count": null,
            "_view_module": "@jupyter-widgets/base",
            "_view_module_version": "1.2.0",
            "_view_name": "LayoutView",
            "align_content": null,
            "align_items": null,
            "align_self": null,
            "border": null,
            "bottom": null,
            "display": null,
            "flex": null,
            "flex_flow": null,
            "grid_area": null,
            "grid_auto_columns": null,
            "grid_auto_flow": null,
            "grid_auto_rows": null,
            "grid_column": null,
            "grid_gap": null,
            "grid_row": null,
            "grid_template_areas": null,
            "grid_template_columns": null,
            "grid_template_rows": null,
            "height": null,
            "justify_content": null,
            "justify_items": null,
            "left": null,
            "margin": null,
            "max_height": null,
            "max_width": null,
            "min_height": null,
            "min_width": null,
            "object_fit": null,
            "object_position": null,
            "order": null,
            "overflow": null,
            "overflow_x": null,
            "overflow_y": null,
            "padding": null,
            "right": null,
            "top": null,
            "visibility": null,
            "width": null
          }
        },
        "a1aff9b64237496fb6911fa19fab3dc3": {
          "model_module": "@jupyter-widgets/base",
          "model_name": "LayoutModel",
          "model_module_version": "1.2.0",
          "state": {
            "_model_module": "@jupyter-widgets/base",
            "_model_module_version": "1.2.0",
            "_model_name": "LayoutModel",
            "_view_count": null,
            "_view_module": "@jupyter-widgets/base",
            "_view_module_version": "1.2.0",
            "_view_name": "LayoutView",
            "align_content": null,
            "align_items": null,
            "align_self": null,
            "border": null,
            "bottom": null,
            "display": null,
            "flex": null,
            "flex_flow": null,
            "grid_area": null,
            "grid_auto_columns": null,
            "grid_auto_flow": null,
            "grid_auto_rows": null,
            "grid_column": null,
            "grid_gap": null,
            "grid_row": null,
            "grid_template_areas": null,
            "grid_template_columns": null,
            "grid_template_rows": null,
            "height": null,
            "justify_content": null,
            "justify_items": null,
            "left": null,
            "margin": null,
            "max_height": null,
            "max_width": null,
            "min_height": null,
            "min_width": null,
            "object_fit": null,
            "object_position": null,
            "order": null,
            "overflow": null,
            "overflow_x": null,
            "overflow_y": null,
            "padding": null,
            "right": null,
            "top": null,
            "visibility": null,
            "width": null
          }
        },
        "9b2aaf828ee841fa86e12500bad288c4": {
          "model_module": "@jupyter-widgets/controls",
          "model_name": "DescriptionStyleModel",
          "model_module_version": "1.5.0",
          "state": {
            "_model_module": "@jupyter-widgets/controls",
            "_model_module_version": "1.5.0",
            "_model_name": "DescriptionStyleModel",
            "_view_count": null,
            "_view_module": "@jupyter-widgets/base",
            "_view_module_version": "1.2.0",
            "_view_name": "StyleView",
            "description_width": ""
          }
        },
        "daacccf339a542ebb14501bdc16f446b": {
          "model_module": "@jupyter-widgets/base",
          "model_name": "LayoutModel",
          "model_module_version": "1.2.0",
          "state": {
            "_model_module": "@jupyter-widgets/base",
            "_model_module_version": "1.2.0",
            "_model_name": "LayoutModel",
            "_view_count": null,
            "_view_module": "@jupyter-widgets/base",
            "_view_module_version": "1.2.0",
            "_view_name": "LayoutView",
            "align_content": null,
            "align_items": null,
            "align_self": null,
            "border": null,
            "bottom": null,
            "display": null,
            "flex": null,
            "flex_flow": null,
            "grid_area": null,
            "grid_auto_columns": null,
            "grid_auto_flow": null,
            "grid_auto_rows": null,
            "grid_column": null,
            "grid_gap": null,
            "grid_row": null,
            "grid_template_areas": null,
            "grid_template_columns": null,
            "grid_template_rows": null,
            "height": null,
            "justify_content": null,
            "justify_items": null,
            "left": null,
            "margin": null,
            "max_height": null,
            "max_width": null,
            "min_height": null,
            "min_width": null,
            "object_fit": null,
            "object_position": null,
            "order": null,
            "overflow": null,
            "overflow_x": null,
            "overflow_y": null,
            "padding": null,
            "right": null,
            "top": null,
            "visibility": null,
            "width": null
          }
        },
        "eca34d8ae62740a2a19f5117ace15368": {
          "model_module": "@jupyter-widgets/controls",
          "model_name": "ProgressStyleModel",
          "model_module_version": "1.5.0",
          "state": {
            "_model_module": "@jupyter-widgets/controls",
            "_model_module_version": "1.5.0",
            "_model_name": "ProgressStyleModel",
            "_view_count": null,
            "_view_module": "@jupyter-widgets/base",
            "_view_module_version": "1.2.0",
            "_view_name": "StyleView",
            "bar_color": null,
            "description_width": ""
          }
        },
        "d582682572314383a2fa75037ebb4f45": {
          "model_module": "@jupyter-widgets/base",
          "model_name": "LayoutModel",
          "model_module_version": "1.2.0",
          "state": {
            "_model_module": "@jupyter-widgets/base",
            "_model_module_version": "1.2.0",
            "_model_name": "LayoutModel",
            "_view_count": null,
            "_view_module": "@jupyter-widgets/base",
            "_view_module_version": "1.2.0",
            "_view_name": "LayoutView",
            "align_content": null,
            "align_items": null,
            "align_self": null,
            "border": null,
            "bottom": null,
            "display": null,
            "flex": null,
            "flex_flow": null,
            "grid_area": null,
            "grid_auto_columns": null,
            "grid_auto_flow": null,
            "grid_auto_rows": null,
            "grid_column": null,
            "grid_gap": null,
            "grid_row": null,
            "grid_template_areas": null,
            "grid_template_columns": null,
            "grid_template_rows": null,
            "height": null,
            "justify_content": null,
            "justify_items": null,
            "left": null,
            "margin": null,
            "max_height": null,
            "max_width": null,
            "min_height": null,
            "min_width": null,
            "object_fit": null,
            "object_position": null,
            "order": null,
            "overflow": null,
            "overflow_x": null,
            "overflow_y": null,
            "padding": null,
            "right": null,
            "top": null,
            "visibility": null,
            "width": null
          }
        },
        "8105c8e0612947c0bfce7e6fcf9d94e1": {
          "model_module": "@jupyter-widgets/controls",
          "model_name": "DescriptionStyleModel",
          "model_module_version": "1.5.0",
          "state": {
            "_model_module": "@jupyter-widgets/controls",
            "_model_module_version": "1.5.0",
            "_model_name": "DescriptionStyleModel",
            "_view_count": null,
            "_view_module": "@jupyter-widgets/base",
            "_view_module_version": "1.2.0",
            "_view_name": "StyleView",
            "description_width": ""
          }
        }
      }
    }
  },
  "cells": [
    {
      "cell_type": "markdown",
      "metadata": {
        "id": "view-in-github",
        "colab_type": "text"
      },
      "source": [
        "<a href=\"https://colab.research.google.com/github/ykitaguchi77/CoreML/blob/main/YoloV5ToCoreML.ipynb\" target=\"_parent\"><img src=\"https://colab.research.google.com/assets/colab-badge.svg\" alt=\"Open In Colab\"/></a>"
      ]
    },
    {
      "cell_type": "code",
      "execution_count": 1,
      "metadata": {
        "id": "eZMpJbhY9-o-",
        "colab": {
          "base_uri": "https://localhost:8080/"
        },
        "outputId": "528410e4-fb60-4781-c3d9-0719c1be5fa7"
      },
      "outputs": [
        {
          "output_type": "stream",
          "name": "stdout",
          "text": [
            "Cloning into 'yolov5'...\n",
            "remote: Enumerating objects: 14098, done.\u001b[K\n",
            "remote: Counting objects: 100% (116/116), done.\u001b[K\n",
            "remote: Compressing objects: 100% (50/50), done.\u001b[K\n",
            "remote: Total 14098 (delta 77), reused 101 (delta 66), pack-reused 13982\n",
            "Receiving objects: 100% (14098/14098), 13.30 MiB | 27.74 MiB/s, done.\n",
            "Resolving deltas: 100% (9729/9729), done.\n"
          ]
        }
      ],
      "source": [
        "# clone Yolov5 repo\n",
        "!git clone https://github.com/ultralytics/yolov5.git "
      ]
    },
    {
      "cell_type": "code",
      "source": [
        "!pip install coremltools"
      ],
      "metadata": {
        "id": "AXEiB45b9_Nh",
        "colab": {
          "base_uri": "https://localhost:8080/"
        },
        "outputId": "ee12012c-1a6b-4903-9e04-3acbef730f3b"
      },
      "execution_count": 2,
      "outputs": [
        {
          "output_type": "stream",
          "name": "stdout",
          "text": [
            "Looking in indexes: https://pypi.org/simple, https://us-python.pkg.dev/colab-wheels/public/simple/\n",
            "Collecting coremltools\n",
            "  Downloading coremltools-6.0-cp37-none-manylinux1_x86_64.whl (1.5 MB)\n",
            "\u001b[K     |████████████████████████████████| 1.5 MB 5.3 MB/s \n",
            "\u001b[?25hRequirement already satisfied: packaging in /usr/local/lib/python3.7/dist-packages (from coremltools) (21.3)\n",
            "Requirement already satisfied: protobuf<=3.20.1,>=3.1.0 in /usr/local/lib/python3.7/dist-packages (from coremltools) (3.17.3)\n",
            "Requirement already satisfied: sympy in /usr/local/lib/python3.7/dist-packages (from coremltools) (1.7.1)\n",
            "Requirement already satisfied: numpy>=1.14.5 in /usr/local/lib/python3.7/dist-packages (from coremltools) (1.21.6)\n",
            "Requirement already satisfied: tqdm in /usr/local/lib/python3.7/dist-packages (from coremltools) (4.64.1)\n",
            "Requirement already satisfied: six>=1.9 in /usr/local/lib/python3.7/dist-packages (from protobuf<=3.20.1,>=3.1.0->coremltools) (1.15.0)\n",
            "Requirement already satisfied: pyparsing!=3.0.5,>=2.0.2 in /usr/local/lib/python3.7/dist-packages (from packaging->coremltools) (3.0.9)\n",
            "Requirement already satisfied: mpmath>=0.19 in /usr/local/lib/python3.7/dist-packages (from sympy->coremltools) (1.2.1)\n",
            "Installing collected packages: coremltools\n",
            "Successfully installed coremltools-6.0\n"
          ]
        }
      ]
    },
    {
      "cell_type": "code",
      "source": [
        "cd yolov5"
      ],
      "metadata": {
        "id": "sVXAcnps-An5",
        "colab": {
          "base_uri": "https://localhost:8080/"
        },
        "outputId": "fdac0be9-08be-4242-fa68-a80e87d0034a"
      },
      "execution_count": 3,
      "outputs": [
        {
          "output_type": "stream",
          "name": "stdout",
          "text": [
            "/content/yolov5\n"
          ]
        }
      ]
    },
    {
      "cell_type": "code",
      "source": [
        "# If you use custom traned model, you can change the class labels to your own classes.You can specify as many classes as you like.\n",
        "classLabels = [\"person\", \"bicycle\", \"car\", \"motorcycle\", \"airplane\", \"bus\", \"train\", \"truck\", \"boat\", \"traffic light\", \"fire hydrant\", \"stop sign\", \"parking meter\", \"bench\", \"bird\", \"cat\", \"dog\", \"horse\", \"sheep\", \"cow\", \"elephant\", \"bear\", \"zebra\", \"giraffe\", \"backpack\", \"umbrella\", \"handbag\", \"tie\", \"suitcase\", \"frisbee\", \"skis\", \"snowboard\", \"sports ball\", \"kite\", \"baseball bat\", \"baseball glove\", \"skateboard\", \"surfboard\", \"tennis racket\", \"bottle\", \"wine glass\", \"cup\", \"fork\", \"knife\", \"spoon\", \"bowl\", \"banana\", \"apple\", \"sandwich\", \"orange\", \"broccoli\", \"carrot\", \"hot dog\", \"pizza\", \"donut\", \"cake\", \"chair\", \"couch\", \"potted plant\", \"bed\", \"dining table\", \"toilet\", \"tv\", \"laptop\", \"mouse\", \"remote\", \"keyboard\", \"cell phone\", \"microwave\", \"oven\", \"toaster\", \"sink\", \"refrigerator\", \"book\", \"clock\", \"vase\", \"scissors\", \"teddy bear\", \"hair drier\", \"toothbrush\"]\n",
        "numberOfClassLabels = len(classLabels)\n",
        "outputSize = numberOfClassLabels + 5"
      ],
      "metadata": {
        "id": "AKkDtPvrD5qr"
      },
      "execution_count": 5,
      "outputs": []
    },
    {
      "cell_type": "code",
      "source": [
        "import torch\n",
        "model = torch.hub.load('ultralytics/yolov5', 'yolov5s')\n",
        "\n",
        "torch.save(model, '/content/yolo5s.pt')"
      ],
      "metadata": {
        "id": "KSqPDtvetm4Z",
        "outputId": "fa59bc35-2a45-415a-b7bc-c521020dc643",
        "colab": {
          "base_uri": "https://localhost:8080/",
          "height": 248,
          "referenced_widgets": [
            "eb11e4f66a864b03a4dd7bdb09d8c63d",
            "a0e24d7b14ca4753a7f607e354925643",
            "3f89cb87d8364fcc81384d3c3419dc1d",
            "b961a07c2c45430f88122cb4b0f2dbea",
            "0d29e85a17394ed79e840e7afc571679",
            "a1aff9b64237496fb6911fa19fab3dc3",
            "9b2aaf828ee841fa86e12500bad288c4",
            "daacccf339a542ebb14501bdc16f446b",
            "eca34d8ae62740a2a19f5117ace15368",
            "d582682572314383a2fa75037ebb4f45",
            "8105c8e0612947c0bfce7e6fcf9d94e1"
          ]
        }
      },
      "execution_count": 8,
      "outputs": [
        {
          "output_type": "stream",
          "name": "stderr",
          "text": [
            "/usr/local/lib/python3.7/dist-packages/torch/hub.py:267: UserWarning: You are about to download and run code from an untrusted repository. In a future release, this won't be allowed. To add the repository to your trusted list, change the command to {calling_fn}(..., trust_repo=False) and a command prompt will appear asking for an explicit confirmation of trust, or load(..., trust_repo=True), which will assume that the prompt is to be answered with 'yes'. You can also use load(..., trust_repo='check') which will only prompt for confirmation if the repo is not already trusted. This will eventually be the default behaviour\n",
            "  \"You are about to download and run code from an untrusted repository. In a future release, this won't \"\n",
            "Downloading: \"https://github.com/ultralytics/yolov5/zipball/master\" to /root/.cache/torch/hub/master.zip\n",
            "YOLOv5 🚀 2022-10-15 Python-3.7.14 torch-1.12.1+cu113 CPU\n",
            "\n",
            "Downloading https://github.com/ultralytics/yolov5/releases/download/v6.2/yolov5s.pt to yolov5s.pt...\n"
          ]
        },
        {
          "output_type": "display_data",
          "data": {
            "text/plain": [
              "  0%|          | 0.00/14.1M [00:00<?, ?B/s]"
            ],
            "application/vnd.jupyter.widget-view+json": {
              "version_major": 2,
              "version_minor": 0,
              "model_id": "eb11e4f66a864b03a4dd7bdb09d8c63d"
            }
          },
          "metadata": {}
        },
        {
          "output_type": "stream",
          "name": "stderr",
          "text": [
            "\n",
            "Fusing layers... \n",
            "YOLOv5s summary: 213 layers, 7225885 parameters, 0 gradients\n",
            "Adding AutoShape... \n"
          ]
        }
      ]
    },
    {
      "cell_type": "code",
      "source": [
        "from setuptools import setup\n",
        "\n",
        "setup(\n",
        "    name=\"yolov5\",\n",
        "    url=\"https://github.com/ultralytics/yolov5\",\n",
        "    maintainer=\"ultralytics\",\n",
        "    maintainer_email=\"glenn.jocher@ultralytics.com\",\n",
        "    packages=[\"models\", \"utils\"],\n",
        "    install_requires=[\"opencv-python\", \"matplotlib\", \"torchvision\", \"PyYAML\", \"requests\", \"pandas\", \"seaborn\"],\n",
        ")"
      ],
      "metadata": {
        "id": "rRxsrsM5yP7i",
        "outputId": "855fe5e8-7330-44a8-be3c-7450f3690e08",
        "colab": {
          "base_uri": "https://localhost:8080/",
          "height": 244
        }
      },
      "execution_count": 20,
      "outputs": [
        {
          "output_type": "error",
          "ename": "SystemExit",
          "evalue": "ignored",
          "traceback": [
            "An exception has occurred, use %tb to see the full traceback.\n",
            "\u001b[0;31mSystemExit\u001b[0m\u001b[0;31m:\u001b[0m usage: ipykernel_launcher.py [global_opts] cmd1 [cmd1_opts] [cmd2 [cmd2_opts] ...]\n   or: ipykernel_launcher.py --help [cmd1 cmd2 ...]\n   or: ipykernel_launcher.py --help-commands\n   or: ipykernel_launcher.py cmd --help\n\nerror: option -f not recognized\n"
          ]
        },
        {
          "output_type": "stream",
          "name": "stderr",
          "text": [
            "/usr/local/lib/python3.7/dist-packages/IPython/core/interactiveshell.py:3334: UserWarning: To exit: use 'exit', 'quit', or Ctrl-D.\n",
            "  warn(\"To exit: use 'exit', 'quit', or Ctrl-D.\", stacklevel=1)\n"
          ]
        }
      ]
    },
    {
      "cell_type": "code",
      "source": [
        "%cd /content\n",
        "!git clone https://github.com/dbsystel/yolov5-coreml-tools.git "
      ],
      "metadata": {
        "id": "UBbLEk2KyQiA",
        "outputId": "0d899b01-8bf9-42fa-95cd-d4c02f7fe2cb",
        "colab": {
          "base_uri": "https://localhost:8080/"
        }
      },
      "execution_count": 19,
      "outputs": [
        {
          "output_type": "stream",
          "name": "stdout",
          "text": [
            "/content\n",
            "Cloning into 'yolov5-coreml-tools'...\n",
            "remote: Enumerating objects: 81, done.\u001b[K\n",
            "remote: Counting objects: 100% (81/81), done.\u001b[K\n",
            "remote: Compressing objects: 100% (44/44), done.\u001b[K\n",
            "remote: Total 81 (delta 33), reused 78 (delta 31), pack-reused 0\u001b[K\n",
            "Unpacking objects: 100% (81/81), done.\n"
          ]
        }
      ]
    },
    {
      "cell_type": "code",
      "source": [],
      "metadata": {
        "id": "j_wVhEpeyQlw"
      },
      "execution_count": null,
      "outputs": []
    },
    {
      "cell_type": "code",
      "source": [
        "# Change --weiths path to the path to your own checkpoint \n",
        "!python export.py --weights /content/yolo5s.pt --train --include \"coreml\"\n",
        "# After run this, mlmodel saved in the directory same with the weight/"
      ],
      "metadata": {
        "id": "ZLh2PI5fAPi6",
        "colab": {
          "base_uri": "https://localhost:8080/"
        },
        "outputId": "08957643-0960-4879-8d47-c372d135da50"
      },
      "execution_count": 10,
      "outputs": [
        {
          "output_type": "stream",
          "name": "stdout",
          "text": [
            "usage: export.py [-h] [--data DATA] [--weights WEIGHTS [WEIGHTS ...]]\n",
            "                 [--imgsz IMGSZ [IMGSZ ...]] [--batch-size BATCH_SIZE]\n",
            "                 [--device DEVICE] [--half] [--inplace] [--keras] [--optimize]\n",
            "                 [--int8] [--dynamic] [--simplify] [--opset OPSET] [--verbose]\n",
            "                 [--workspace WORKSPACE] [--nms] [--agnostic-nms]\n",
            "                 [--topk-per-class TOPK_PER_CLASS] [--topk-all TOPK_ALL]\n",
            "                 [--iou-thres IOU_THRES] [--conf-thres CONF_THRES]\n",
            "                 [--include INCLUDE [INCLUDE ...]]\n",
            "export.py: error: unrecognized arguments: --train\n"
          ]
        }
      ]
    },
    {
      "cell_type": "code",
      "source": [
        "# Just run to define the decode function\n",
        "import torch\n",
        "# classLabels = [f\"label{i}\" for i in range(80)]\n",
        "numberOfClassLabels = len(classLabels)\n",
        "outputSize = numberOfClassLabels + 5\n",
        "\n",
        "#  Attention: Some models are reversed!\n",
        "reverseModel = False\n",
        "\n",
        "strides = [8, 16, 32]\n",
        "if reverseModel:\n",
        "    strides.reverse()\n",
        "featureMapDimensions = [640 // stride for stride in strides]\n",
        "\n",
        "anchors = ([10, 13, 16, 30, 33, 23], [30, 61, 62, 45, 59, 119], [\n",
        "           116, 90, 156, 198, 373, 326])  # Take these from the <model>.yml in yolov5\n",
        "if reverseModel:\n",
        "    anchors = anchors[::-1]\n",
        "\n",
        "anchorGrid = torch.tensor(anchors).float().view(3, -1, 1, 1, 2)\n",
        "\n",
        "def make_grid(nx, ny):\n",
        "    yv, xv = torch.meshgrid([torch.arange(ny), torch.arange(nx)])\n",
        "    return torch.stack((xv, yv), 2).view((ny, nx, 2)).float()\n",
        "\n",
        "def addExportLayerToCoreml(builder):\n",
        "    '''\n",
        "    Adds the yolov5 export layer to the coreml model\n",
        "    '''\n",
        "    outputNames = [output.name for output in builder.spec.description.output]\n",
        "\n",
        "    for i, outputName in enumerate(outputNames):\n",
        "        # formulas: https://github.com/ultralytics/yolov5/issues/471\n",
        "        builder.add_activation(name=f\"sigmoid_{outputName}\", non_linearity=\"SIGMOID\",\n",
        "                               input_name=outputName, output_name=f\"{outputName}_sigmoid\")\n",
        "\n",
        "        ### Coordinates calculation ###\n",
        "        # input (1, 3, nC, nC, 85), output (1, 3, nC, nC, 2) -> nC = 640 / strides[i]\n",
        "        builder.add_slice(name=f\"slice_coordinates_xy_{outputName}\", input_name=f\"{outputName}_sigmoid\",\n",
        "                          output_name=f\"{outputName}_sliced_coordinates_xy\", axis=\"width\", start_index=0, end_index=2)\n",
        "        # x,y * 2\n",
        "        builder.add_elementwise(name=f\"multiply_xy_by_two_{outputName}\", input_names=[\n",
        "                                f\"{outputName}_sliced_coordinates_xy\"], output_name=f\"{outputName}_multiplied_xy_by_two\", mode=\"MULTIPLY\", alpha=2)\n",
        "        # x,y * 2 - 0.5\n",
        "        builder.add_elementwise(name=f\"subtract_0_5_from_xy_{outputName}\", input_names=[\n",
        "                                f\"{outputName}_multiplied_xy_by_two\"], output_name=f\"{outputName}_subtracted_0_5_from_xy\", mode=\"ADD\", alpha=-0.5)\n",
        "        grid = make_grid(\n",
        "            featureMapDimensions[i], featureMapDimensions[i]).numpy()\n",
        "        # x,y * 2 - 0.5 + grid[i]\n",
        "        builder.add_bias(name=f\"add_grid_from_xy_{outputName}\", input_name=f\"{outputName}_subtracted_0_5_from_xy\",\n",
        "                         output_name=f\"{outputName}_added_grid_xy\", b=grid, shape_bias=grid.shape)\n",
        "        # (x,y * 2 - 0.5 + grid[i]) * stride[i]\n",
        "        builder.add_elementwise(name=f\"multiply_xy_by_stride_{outputName}\", input_names=[\n",
        "                                f\"{outputName}_added_grid_xy\"], output_name=f\"{outputName}_calculated_xy\", mode=\"MULTIPLY\", alpha=strides[i])\n",
        "\n",
        "        # input (1, 3, nC, nC, 85), output (1, 3, nC, nC, 2)\n",
        "        builder.add_slice(name=f\"slice_coordinates_wh_{outputName}\", input_name=f\"{outputName}_sigmoid\",\n",
        "                          output_name=f\"{outputName}_sliced_coordinates_wh\", axis=\"width\", start_index=2, end_index=4)\n",
        "        # w,h * 2\n",
        "        builder.add_elementwise(name=f\"multiply_wh_by_two_{outputName}\", input_names=[\n",
        "                                f\"{outputName}_sliced_coordinates_wh\"], output_name=f\"{outputName}_multiplied_wh_by_two\", mode=\"MULTIPLY\", alpha=2)\n",
        "        # (w,h * 2) ** 2\n",
        "        builder.add_unary(name=f\"power_wh_{outputName}\", input_name=f\"{outputName}_multiplied_wh_by_two\",\n",
        "                          output_name=f\"{outputName}_power_wh\", mode=\"power\", alpha=2)\n",
        "        # (w,h * 2) ** 2 * anchor_grid[i]\n",
        "        anchor = anchorGrid[i].expand(-1, featureMapDimensions[i],\n",
        "                                      featureMapDimensions[i], -1).numpy()\n",
        "        builder.add_load_constant_nd(\n",
        "            name=f\"anchors_{outputName}\", output_name=f\"{outputName}_anchors\", constant_value=anchor, shape=anchor.shape)\n",
        "        builder.add_elementwise(name=f\"multiply_wh_with_achors_{outputName}\", input_names=[\n",
        "                                f\"{outputName}_power_wh\", f\"{outputName}_anchors\"], output_name=f\"{outputName}_calculated_wh\", mode=\"MULTIPLY\")\n",
        "\n",
        "        builder.add_concat_nd(name=f\"concat_coordinates_{outputName}\", input_names=[\n",
        "                              f\"{outputName}_calculated_xy\", f\"{outputName}_calculated_wh\"], output_name=f\"{outputName}_raw_coordinates\", axis=-1)\n",
        "        builder.add_scale(name=f\"normalize_coordinates_{outputName}\", input_name=f\"{outputName}_raw_coordinates\",\n",
        "                          output_name=f\"{outputName}_raw_normalized_coordinates\", W=torch.tensor([1 / 640]).numpy(), b=0, has_bias=False)\n",
        "\n",
        "        ### Confidence calculation ###\n",
        "        builder.add_slice(name=f\"slice_object_confidence_{outputName}\", input_name=f\"{outputName}_sigmoid\",\n",
        "                          output_name=f\"{outputName}_object_confidence\", axis=\"width\", start_index=4, end_index=5)\n",
        "        builder.add_slice(name=f\"slice_label_confidence_{outputName}\", input_name=f\"{outputName}_sigmoid\",\n",
        "                          output_name=f\"{outputName}_label_confidence\", axis=\"width\", start_index=5, end_index=0)\n",
        "        # confidence = object_confidence * label_confidence\n",
        "        builder.add_multiply_broadcastable(name=f\"multiply_object_label_confidence_{outputName}\", input_names=[\n",
        "                                           f\"{outputName}_label_confidence\", f\"{outputName}_object_confidence\"], output_name=f\"{outputName}_raw_confidence\")\n",
        "\n",
        "        # input: (1, 3, nC, nC, 85), output: (3 * nc^2, 85)\n",
        "        builder.add_flatten_to_2d(\n",
        "            name=f\"flatten_confidence_{outputName}\", input_name=f\"{outputName}_raw_confidence\", output_name=f\"{outputName}_flatten_raw_confidence\", axis=-1)\n",
        "        builder.add_flatten_to_2d(\n",
        "            name=f\"flatten_coordinates_{outputName}\", input_name=f\"{outputName}_raw_normalized_coordinates\", output_name=f\"{outputName}_flatten_raw_coordinates\", axis=-1)\n",
        "\n",
        "    builder.add_concat_nd(name=\"concat_confidence\", input_names=[\n",
        "                          f\"{outputName}_flatten_raw_confidence\" for outputName in outputNames], output_name=\"raw_confidence\", axis=-2)\n",
        "    builder.add_concat_nd(name=\"concat_coordinates\", input_names=[\n",
        "                          f\"{outputName}_flatten_raw_coordinates\" for outputName in outputNames], output_name=\"raw_coordinates\", axis=-2)\n",
        "\n",
        "    builder.set_output(output_names=[\"raw_confidence\", \"raw_coordinates\"], output_dims=[\n",
        "                       (25200, numberOfClassLabels), (25200, 4)])"
      ],
      "metadata": {
        "id": "Hpigyc_5Fbri"
      },
      "execution_count": null,
      "outputs": []
    },
    {
      "cell_type": "code",
      "source": [
        "# Just run to define the NMS function\n",
        "\n",
        "def createNmsModelSpec(nnSpec):\n",
        "    '''\n",
        "    Create a coreml model with nms to filter the results of the model\n",
        "    '''\n",
        "    nmsSpec = ct.proto.Model_pb2.Model()\n",
        "    nmsSpec.specificationVersion = 4\n",
        "\n",
        "    # Define input and outputs of the model\n",
        "    for i in range(2):\n",
        "        nnOutput = nnSpec.description.output[i].SerializeToString()\n",
        "\n",
        "        nmsSpec.description.input.add()\n",
        "        nmsSpec.description.input[i].ParseFromString(nnOutput)\n",
        "\n",
        "        nmsSpec.description.output.add()\n",
        "        nmsSpec.description.output[i].ParseFromString(nnOutput)\n",
        "\n",
        "    nmsSpec.description.output[0].name = \"confidence\"\n",
        "    nmsSpec.description.output[1].name = \"coordinates\"\n",
        "\n",
        "    # Define output shape of the model\n",
        "    outputSizes = [numberOfClassLabels, 4]\n",
        "    for i in range(len(outputSizes)):\n",
        "        maType = nmsSpec.description.output[i].type.multiArrayType\n",
        "        # First dimension of both output is the number of boxes, which should be flexible\n",
        "        maType.shapeRange.sizeRanges.add()\n",
        "        maType.shapeRange.sizeRanges[0].lowerBound = 0\n",
        "        maType.shapeRange.sizeRanges[0].upperBound = -1\n",
        "        # Second dimension is fixed, for \"confidence\" it's the number of classes, for coordinates it's position (x, y) and size (w, h)\n",
        "        maType.shapeRange.sizeRanges.add()\n",
        "        maType.shapeRange.sizeRanges[1].lowerBound = outputSizes[i]\n",
        "        maType.shapeRange.sizeRanges[1].upperBound = outputSizes[i]\n",
        "        del maType.shape[:]\n",
        "\n",
        "    # Define the model type non maximum supression\n",
        "    nms = nmsSpec.nonMaximumSuppression\n",
        "    nms.confidenceInputFeatureName = \"raw_confidence\"\n",
        "    nms.coordinatesInputFeatureName = \"raw_coordinates\"\n",
        "    nms.confidenceOutputFeatureName = \"confidence\"\n",
        "    nms.coordinatesOutputFeatureName = \"coordinates\"\n",
        "    nms.iouThresholdInputFeatureName = \"iouThreshold\"\n",
        "    nms.confidenceThresholdInputFeatureName = \"confidenceThreshold\"\n",
        "    # Some good default values for the two additional inputs, can be overwritten when using the model\n",
        "    nms.iouThreshold = 0.6\n",
        "    nms.confidenceThreshold = 0.4\n",
        "    nms.stringClassLabels.vector.extend(classLabels)\n",
        "\n",
        "    return nmsSpec\n"
      ],
      "metadata": {
        "id": "g9rgzl0_DrxT"
      },
      "execution_count": null,
      "outputs": []
    },
    {
      "cell_type": "code",
      "source": [
        "# Just run to combine the model added decode and the NMS.\n",
        "def combineModelsAndExport(builderSpec, nmsSpec, fileName, quantize=False):\n",
        "    '''\n",
        "    Combines the coreml model with export logic and the nms to one final model. Optionally save with different quantization (32, 16, 8) (Works only if on Mac Os)\n",
        "    '''\n",
        "    try:\n",
        "        print(f'Combine CoreMl model with nms and export model')\n",
        "        # Combine models to a single one\n",
        "        pipeline = ct.models.pipeline.Pipeline(input_features=[(\"image\", ct.models.datatypes.Array(3, 460, 460)),\n",
        "                                                               (\"iouThreshold\", ct.models.datatypes.Double(\n",
        "                                                               )),\n",
        "                                                               (\"confidenceThreshold\", ct.models.datatypes.Double())], output_features=[\"confidence\", \"coordinates\"])\n",
        "\n",
        "        # Required version (>= ios13) in order for mns to work\n",
        "        pipeline.spec.specificationVersion = 4\n",
        "\n",
        "        pipeline.add_model(builderSpec)\n",
        "        pipeline.add_model(nmsSpec)\n",
        "\n",
        "        pipeline.spec.description.input[0].ParseFromString(\n",
        "            builderSpec.description.input[0].SerializeToString())\n",
        "        pipeline.spec.description.output[0].ParseFromString(\n",
        "            nmsSpec.description.output[0].SerializeToString())\n",
        "        pipeline.spec.description.output[1].ParseFromString(\n",
        "            nmsSpec.description.output[1].SerializeToString())\n",
        "\n",
        "        # Metadata for the model‚\n",
        "        pipeline.spec.description.input[\n",
        "            1].shortDescription = \"(optional) IOU Threshold override (Default: 0.6)\"\n",
        "        pipeline.spec.description.input[\n",
        "            2].shortDescription = \"(optional) Confidence Threshold override (Default: 0.4)\"\n",
        "        pipeline.spec.description.output[0].shortDescription = u\"Boxes \\xd7 Class confidence\"\n",
        "        pipeline.spec.description.output[\n",
        "            1].shortDescription = u\"Boxes \\xd7 [x, y, width, height] (relative to image size)\"\n",
        "        pipeline.spec.description.metadata.versionString = \"1.0\"\n",
        "        pipeline.spec.description.metadata.shortDescription = \"yolov5\"\n",
        "        pipeline.spec.description.metadata.author = \"Leon De Andrade\"\n",
        "        pipeline.spec.description.metadata.license = \"\"\n",
        "\n",
        "        model = ct.models.MLModel(pipeline.spec)\n",
        "        model.save(fileName)\n",
        "\n",
        "        if quantize:\n",
        "            fileName16 = fileName.replace(\".mlmodel\", \"_16.mlmodel\")\n",
        "            modelFp16 = ct.models.neural_network.quantization_utils.quantize_weights(\n",
        "                model, nbits=16)\n",
        "            modelFp16.save(fileName16)\n",
        "\n",
        "            fileName8 = fileName.replace(\".mlmodel\", \"_8.mlmodel\")\n",
        "            modelFp8 = ct.models.neural_network.quantization_utils.quantize_weights(\n",
        "                model, nbits=8)\n",
        "            modelFp8.save(fileName8)\n",
        "\n",
        "        print(f'CoreML export success, saved as {fileName}')\n",
        "    except Exception as e:\n",
        "        print(f'CoreML export failure: {e}')"
      ],
      "metadata": {
        "id": "gq8rtvsbEDYm"
      },
      "execution_count": null,
      "outputs": []
    },
    {
      "cell_type": "code",
      "source": [
        "# You need specify the path to your model that converted and saved in the same folder of your weight file.\n",
        "import coremltools as ct\n",
        "mlmodel = ct.models.MLModel(\"/content/drive/MyDrive/yolo5s.mlmodel\")"
      ],
      "metadata": {
        "id": "eUthrL2h-CEZ"
      },
      "execution_count": null,
      "outputs": []
    },
    {
      "cell_type": "code",
      "source": [
        "# Just run to get the mlmodel spec.\n",
        "spec = mlmodel.get_spec()\n",
        "builder = ct.models.neural_network.NeuralNetworkBuilder(spec=spec)\n",
        "spec.description"
      ],
      "metadata": {
        "id": "DRZi7EcuxCTs"
      },
      "execution_count": null,
      "outputs": []
    },
    {
      "cell_type": "code",
      "source": [
        "# run the functions to add decode layer and NMS to the model.\n",
        "addExportLayerToCoreml(builder)\n",
        "nmsSpec = createNmsModelSpec(builder.spec)\n",
        "combineModelsAndExport(builder.spec, nmsSpec, f\"/content/drive/MyDrive/yolo5s.mlmodel\") # The model will be saved in this path."
      ],
      "metadata": {
        "id": "3x5Mbli7Dk0v"
      },
      "execution_count": null,
      "outputs": []
    }
  ]
}