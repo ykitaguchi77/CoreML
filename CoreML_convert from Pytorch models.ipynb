{
  "nbformat": 4,
  "nbformat_minor": 0,
  "metadata": {
    "accelerator": "GPU",
    "colab": {
      "name": "Untitled76.ipynb",
      "provenance": [],
      "include_colab_link": true
    },
    "kernelspec": {
      "display_name": "Python 3",
      "name": "python3"
    },
    "language_info": {
      "name": "python"
    },
    "widgets": {
      "application/vnd.jupyter.widget-state+json": {
        "ff6405e8091342efa198e240679fbc45": {
          "model_module": "@jupyter-widgets/controls",
          "model_name": "HBoxModel",
          "model_module_version": "1.5.0",
          "state": {
            "_dom_classes": [],
            "_model_module": "@jupyter-widgets/controls",
            "_model_module_version": "1.5.0",
            "_model_name": "HBoxModel",
            "_view_count": null,
            "_view_module": "@jupyter-widgets/controls",
            "_view_module_version": "1.5.0",
            "_view_name": "HBoxView",
            "box_style": "",
            "children": [
              "IPY_MODEL_d6baa84e8e084ee28fe85dfcc0d25183",
              "IPY_MODEL_8d31f2e074f14baa91bbcf996e20ba67",
              "IPY_MODEL_37ef5c20e6c44a4490fe1dbfd533a405"
            ],
            "layout": "IPY_MODEL_03935510202e4148bb098561d90ee257"
          }
        },
        "d6baa84e8e084ee28fe85dfcc0d25183": {
          "model_module": "@jupyter-widgets/controls",
          "model_name": "HTMLModel",
          "model_module_version": "1.5.0",
          "state": {
            "_dom_classes": [],
            "_model_module": "@jupyter-widgets/controls",
            "_model_module_version": "1.5.0",
            "_model_name": "HTMLModel",
            "_view_count": null,
            "_view_module": "@jupyter-widgets/controls",
            "_view_module_version": "1.5.0",
            "_view_name": "HTMLView",
            "description": "",
            "description_tooltip": null,
            "layout": "IPY_MODEL_d25d010808134f4483046bcf112460c0",
            "placeholder": "​",
            "style": "IPY_MODEL_41179d14f86a4ee9a37df63a2c800c79",
            "value": "100%"
          }
        },
        "8d31f2e074f14baa91bbcf996e20ba67": {
          "model_module": "@jupyter-widgets/controls",
          "model_name": "FloatProgressModel",
          "model_module_version": "1.5.0",
          "state": {
            "_dom_classes": [],
            "_model_module": "@jupyter-widgets/controls",
            "_model_module_version": "1.5.0",
            "_model_name": "FloatProgressModel",
            "_view_count": null,
            "_view_module": "@jupyter-widgets/controls",
            "_view_module_version": "1.5.0",
            "_view_name": "ProgressView",
            "bar_style": "success",
            "description": "",
            "description_tooltip": null,
            "layout": "IPY_MODEL_5eb6849ec699402bb62a4483ac74291f",
            "max": 14212972,
            "min": 0,
            "orientation": "horizontal",
            "style": "IPY_MODEL_43fd4fc4e5144daf8a0a64a9039edcde",
            "value": 14212972
          }
        },
        "37ef5c20e6c44a4490fe1dbfd533a405": {
          "model_module": "@jupyter-widgets/controls",
          "model_name": "HTMLModel",
          "model_module_version": "1.5.0",
          "state": {
            "_dom_classes": [],
            "_model_module": "@jupyter-widgets/controls",
            "_model_module_version": "1.5.0",
            "_model_name": "HTMLModel",
            "_view_count": null,
            "_view_module": "@jupyter-widgets/controls",
            "_view_module_version": "1.5.0",
            "_view_name": "HTMLView",
            "description": "",
            "description_tooltip": null,
            "layout": "IPY_MODEL_09002cc91de74e80af4a59a57cdb7ca4",
            "placeholder": "​",
            "style": "IPY_MODEL_4cf3ea6322cb44f0970d8972c5e2d2c9",
            "value": " 13.6M/13.6M [00:00&lt;00:00, 15.1MB/s]"
          }
        },
        "03935510202e4148bb098561d90ee257": {
          "model_module": "@jupyter-widgets/base",
          "model_name": "LayoutModel",
          "model_module_version": "1.2.0",
          "state": {
            "_model_module": "@jupyter-widgets/base",
            "_model_module_version": "1.2.0",
            "_model_name": "LayoutModel",
            "_view_count": null,
            "_view_module": "@jupyter-widgets/base",
            "_view_module_version": "1.2.0",
            "_view_name": "LayoutView",
            "align_content": null,
            "align_items": null,
            "align_self": null,
            "border": null,
            "bottom": null,
            "display": null,
            "flex": null,
            "flex_flow": null,
            "grid_area": null,
            "grid_auto_columns": null,
            "grid_auto_flow": null,
            "grid_auto_rows": null,
            "grid_column": null,
            "grid_gap": null,
            "grid_row": null,
            "grid_template_areas": null,
            "grid_template_columns": null,
            "grid_template_rows": null,
            "height": null,
            "justify_content": null,
            "justify_items": null,
            "left": null,
            "margin": null,
            "max_height": null,
            "max_width": null,
            "min_height": null,
            "min_width": null,
            "object_fit": null,
            "object_position": null,
            "order": null,
            "overflow": null,
            "overflow_x": null,
            "overflow_y": null,
            "padding": null,
            "right": null,
            "top": null,
            "visibility": null,
            "width": null
          }
        },
        "d25d010808134f4483046bcf112460c0": {
          "model_module": "@jupyter-widgets/base",
          "model_name": "LayoutModel",
          "model_module_version": "1.2.0",
          "state": {
            "_model_module": "@jupyter-widgets/base",
            "_model_module_version": "1.2.0",
            "_model_name": "LayoutModel",
            "_view_count": null,
            "_view_module": "@jupyter-widgets/base",
            "_view_module_version": "1.2.0",
            "_view_name": "LayoutView",
            "align_content": null,
            "align_items": null,
            "align_self": null,
            "border": null,
            "bottom": null,
            "display": null,
            "flex": null,
            "flex_flow": null,
            "grid_area": null,
            "grid_auto_columns": null,
            "grid_auto_flow": null,
            "grid_auto_rows": null,
            "grid_column": null,
            "grid_gap": null,
            "grid_row": null,
            "grid_template_areas": null,
            "grid_template_columns": null,
            "grid_template_rows": null,
            "height": null,
            "justify_content": null,
            "justify_items": null,
            "left": null,
            "margin": null,
            "max_height": null,
            "max_width": null,
            "min_height": null,
            "min_width": null,
            "object_fit": null,
            "object_position": null,
            "order": null,
            "overflow": null,
            "overflow_x": null,
            "overflow_y": null,
            "padding": null,
            "right": null,
            "top": null,
            "visibility": null,
            "width": null
          }
        },
        "41179d14f86a4ee9a37df63a2c800c79": {
          "model_module": "@jupyter-widgets/controls",
          "model_name": "DescriptionStyleModel",
          "model_module_version": "1.5.0",
          "state": {
            "_model_module": "@jupyter-widgets/controls",
            "_model_module_version": "1.5.0",
            "_model_name": "DescriptionStyleModel",
            "_view_count": null,
            "_view_module": "@jupyter-widgets/base",
            "_view_module_version": "1.2.0",
            "_view_name": "StyleView",
            "description_width": ""
          }
        },
        "5eb6849ec699402bb62a4483ac74291f": {
          "model_module": "@jupyter-widgets/base",
          "model_name": "LayoutModel",
          "model_module_version": "1.2.0",
          "state": {
            "_model_module": "@jupyter-widgets/base",
            "_model_module_version": "1.2.0",
            "_model_name": "LayoutModel",
            "_view_count": null,
            "_view_module": "@jupyter-widgets/base",
            "_view_module_version": "1.2.0",
            "_view_name": "LayoutView",
            "align_content": null,
            "align_items": null,
            "align_self": null,
            "border": null,
            "bottom": null,
            "display": null,
            "flex": null,
            "flex_flow": null,
            "grid_area": null,
            "grid_auto_columns": null,
            "grid_auto_flow": null,
            "grid_auto_rows": null,
            "grid_column": null,
            "grid_gap": null,
            "grid_row": null,
            "grid_template_areas": null,
            "grid_template_columns": null,
            "grid_template_rows": null,
            "height": null,
            "justify_content": null,
            "justify_items": null,
            "left": null,
            "margin": null,
            "max_height": null,
            "max_width": null,
            "min_height": null,
            "min_width": null,
            "object_fit": null,
            "object_position": null,
            "order": null,
            "overflow": null,
            "overflow_x": null,
            "overflow_y": null,
            "padding": null,
            "right": null,
            "top": null,
            "visibility": null,
            "width": null
          }
        },
        "43fd4fc4e5144daf8a0a64a9039edcde": {
          "model_module": "@jupyter-widgets/controls",
          "model_name": "ProgressStyleModel",
          "model_module_version": "1.5.0",
          "state": {
            "_model_module": "@jupyter-widgets/controls",
            "_model_module_version": "1.5.0",
            "_model_name": "ProgressStyleModel",
            "_view_count": null,
            "_view_module": "@jupyter-widgets/base",
            "_view_module_version": "1.2.0",
            "_view_name": "StyleView",
            "bar_color": null,
            "description_width": ""
          }
        },
        "09002cc91de74e80af4a59a57cdb7ca4": {
          "model_module": "@jupyter-widgets/base",
          "model_name": "LayoutModel",
          "model_module_version": "1.2.0",
          "state": {
            "_model_module": "@jupyter-widgets/base",
            "_model_module_version": "1.2.0",
            "_model_name": "LayoutModel",
            "_view_count": null,
            "_view_module": "@jupyter-widgets/base",
            "_view_module_version": "1.2.0",
            "_view_name": "LayoutView",
            "align_content": null,
            "align_items": null,
            "align_self": null,
            "border": null,
            "bottom": null,
            "display": null,
            "flex": null,
            "flex_flow": null,
            "grid_area": null,
            "grid_auto_columns": null,
            "grid_auto_flow": null,
            "grid_auto_rows": null,
            "grid_column": null,
            "grid_gap": null,
            "grid_row": null,
            "grid_template_areas": null,
            "grid_template_columns": null,
            "grid_template_rows": null,
            "height": null,
            "justify_content": null,
            "justify_items": null,
            "left": null,
            "margin": null,
            "max_height": null,
            "max_width": null,
            "min_height": null,
            "min_width": null,
            "object_fit": null,
            "object_position": null,
            "order": null,
            "overflow": null,
            "overflow_x": null,
            "overflow_y": null,
            "padding": null,
            "right": null,
            "top": null,
            "visibility": null,
            "width": null
          }
        },
        "4cf3ea6322cb44f0970d8972c5e2d2c9": {
          "model_module": "@jupyter-widgets/controls",
          "model_name": "DescriptionStyleModel",
          "model_module_version": "1.5.0",
          "state": {
            "_model_module": "@jupyter-widgets/controls",
            "_model_module_version": "1.5.0",
            "_model_name": "DescriptionStyleModel",
            "_view_count": null,
            "_view_module": "@jupyter-widgets/base",
            "_view_module_version": "1.2.0",
            "_view_name": "StyleView",
            "description_width": ""
          }
        }
      }
    }
  },
  "cells": [
    {
      "cell_type": "markdown",
      "metadata": {
        "id": "view-in-github",
        "colab_type": "text"
      },
      "source": [
        "<a href=\"https://colab.research.google.com/github/ykitaguchi77/CoreML/blob/main/CoreML_convert%20from%20Pytorch%20models.ipynb\" target=\"_parent\"><img src=\"https://colab.research.google.com/assets/colab-badge.svg\" alt=\"Open In Colab\"/></a>"
      ]
    },
    {
      "cell_type": "markdown",
      "metadata": {
        "id": "1MKxCoJf_Kzp"
      },
      "source": [
        "#**Conversion of Pytorch script to CoreML**"
      ]
    },
    {
      "cell_type": "markdown",
      "source": [
        "## Coremltools 5"
      ],
      "metadata": {
        "id": "MeTQkFAL_BbR"
      }
    },
    {
      "cell_type": "markdown",
      "source": [
        "## Coremltools 4"
      ],
      "metadata": {
        "id": "n3TOH3dY-7eJ"
      }
    },
    {
      "cell_type": "markdown",
      "metadata": {
        "id": "_T5OXyxy_aaP"
      },
      "source": [
        "既存のモデルを変換する場合<br>\n",
        "https://coremltools.readme.io/docs/pytorch-conversion"
      ]
    },
    {
      "cell_type": "code",
      "source": [
        "from google.colab import drive\n",
        "drive.mount('/content/drive')"
      ],
      "metadata": {
        "colab": {
          "base_uri": "https://localhost:8080/"
        },
        "id": "33etus8GmJ5G",
        "outputId": "87285db1-86df-4ee3-c162-d00fa25d0f1e"
      },
      "execution_count": 1,
      "outputs": [
        {
          "output_type": "stream",
          "name": "stdout",
          "text": [
            "Mounted at /content/drive\n"
          ]
        }
      ]
    },
    {
      "cell_type": "code",
      "metadata": {
        "colab": {
          "base_uri": "https://localhost:8080/",
          "height": 533,
          "referenced_widgets": [
            "ff6405e8091342efa198e240679fbc45",
            "d6baa84e8e084ee28fe85dfcc0d25183",
            "8d31f2e074f14baa91bbcf996e20ba67",
            "37ef5c20e6c44a4490fe1dbfd533a405",
            "03935510202e4148bb098561d90ee257",
            "d25d010808134f4483046bcf112460c0",
            "41179d14f86a4ee9a37df63a2c800c79",
            "5eb6849ec699402bb62a4483ac74291f",
            "43fd4fc4e5144daf8a0a64a9039edcde",
            "09002cc91de74e80af4a59a57cdb7ca4",
            "4cf3ea6322cb44f0970d8972c5e2d2c9"
          ]
        },
        "id": "vajtZlmj7lCa",
        "outputId": "df30080a-3b2e-4042-dfe2-47e1baaad898"
      },
      "source": [
        "import torch.nn as nn\n",
        "\n",
        "########################\n",
        "# Convert Pytorch model     #\n",
        "########################\n",
        "\n",
        "import torch\n",
        "import torchvision\n",
        "!pip install coremltools\n",
        "import coremltools as ct\n",
        "import numpy as np\n",
        "\n",
        "\n",
        "# Load a pre-trained version of MobileNetV2\n",
        "base_model = torchvision.models.mobilenet_v2(pretrained=True)\n",
        "\n",
        "\n",
        "\n",
        "class TorchClassificationModel(nn.Module):\n",
        "    def __init__(self):\n",
        "        super(TorchClassificationModel, self).__init__()\n",
        "        self.layers = nn.Sequential(\n",
        "            base_model,\n",
        "            nn.Softmax(dim=1)\n",
        "        )\n",
        "    def forward(self, x):\n",
        "        return self.layers(x)\n",
        "\n",
        "\n",
        "\n",
        "# Set the model in evaluation mode\n",
        "torch_model = TorchClassificationModel().eval()\n",
        "# torch_model = base_model.eval()\n",
        "\n",
        "# Trace with random data\n",
        "example_input = torch.rand(1, 3, 224, 224) # after test, will get 'size mismatch' error message with size 256x256\n",
        "traced_model = torch.jit.trace(torch_model, example_input)\n",
        "\n",
        "\n",
        "# Download class labels (from a separate file)\n",
        "import urllib\n",
        "label_url = 'https://storage.googleapis.com/download.tensorflow.org/data/ImageNetLabels.txt'\n",
        "class_labels = urllib.request.urlopen(label_url).read().decode(\"utf-8\").splitlines()\n",
        "class_labels = class_labels[1:] # remove the first class which is background\n",
        "assert len(class_labels) == 1000\n",
        "\n",
        "\n",
        "#Set the image scale and bias for input image preprocessing.\n",
        "scale = 1.0 / (255.0 * 0.226)\n",
        "red_bias = -0.485 / 0.226\n",
        "green_bias = -0.456 / 0.226\n",
        "blue_bias = -0.406 / 0.226\n",
        "\n",
        "image_input = ct.ImageType(name=\"input_1\",\n",
        "                           shape=example_input.shape,\n",
        "                           scale=scale,\n",
        "                           bias=[red_bias, green_bias, blue_bias],)\n",
        "                           #color_layout='BGR')\n",
        "\n",
        "# image_output = ct.TensorType(dtype=np.float16)\n",
        "\n",
        "\n",
        "\n",
        "# Convert to Core ML using the Unified Conversion API\n",
        "mlmodel = ct.convert(\n",
        "    traced_model,\n",
        "    #convert_to=\"mlprogram\", #これを入力するとmlpackageとして変換される\n",
        "    inputs=[image_input], \n",
        "    classifier_config = ct.ClassifierConfig(class_labels), \n",
        "    # minimum_deployment_target=ct.target.macOS13\n",
        "    compute_units=ct.ComputeUnit.CPU_ONLY,\n",
        ")\n",
        "\n",
        "# Save model\n",
        "# mlmodel.save(\"/content/drive/MyDrive/temp_files/MobileNetV2.mlpackage\")\n",
        "mlmodel.save(\"MobileNetV2_pytorch.mlmodel\")\n",
        "\n",
        "# from google.colab import files\n",
        "# files.download('/content/drive/MyDrive/temp_files/MobileNetV2.mlpackage')"
      ],
      "execution_count": 2,
      "outputs": [
        {
          "output_type": "stream",
          "name": "stdout",
          "text": [
            "Looking in indexes: https://pypi.org/simple, https://us-python.pkg.dev/colab-wheels/public/simple/\n",
            "Collecting coremltools\n",
            "  Downloading coremltools-6.0-cp37-none-manylinux1_x86_64.whl (1.5 MB)\n",
            "\u001b[K     |████████████████████████████████| 1.5 MB 5.2 MB/s \n",
            "\u001b[?25hRequirement already satisfied: sympy in /usr/local/lib/python3.7/dist-packages (from coremltools) (1.7.1)\n",
            "Requirement already satisfied: protobuf<=3.20.1,>=3.1.0 in /usr/local/lib/python3.7/dist-packages (from coremltools) (3.17.3)\n",
            "Requirement already satisfied: packaging in /usr/local/lib/python3.7/dist-packages (from coremltools) (21.3)\n",
            "Requirement already satisfied: numpy>=1.14.5 in /usr/local/lib/python3.7/dist-packages (from coremltools) (1.21.6)\n",
            "Requirement already satisfied: tqdm in /usr/local/lib/python3.7/dist-packages (from coremltools) (4.64.1)\n",
            "Requirement already satisfied: six>=1.9 in /usr/local/lib/python3.7/dist-packages (from protobuf<=3.20.1,>=3.1.0->coremltools) (1.15.0)\n",
            "Requirement already satisfied: pyparsing!=3.0.5,>=2.0.2 in /usr/local/lib/python3.7/dist-packages (from packaging->coremltools) (3.0.9)\n",
            "Requirement already satisfied: mpmath>=0.19 in /usr/local/lib/python3.7/dist-packages (from sympy->coremltools) (1.2.1)\n",
            "Installing collected packages: coremltools\n",
            "Successfully installed coremltools-6.0\n"
          ]
        },
        {
          "output_type": "stream",
          "name": "stderr",
          "text": [
            "WARNING:root:TensorFlow version 2.9.2 has not been tested with coremltools. You may run into unexpected errors. TensorFlow 2.8.0 is the most recent version that has been tested.\n",
            "/usr/local/lib/python3.7/dist-packages/torchvision/models/_utils.py:209: UserWarning: The parameter 'pretrained' is deprecated since 0.13 and will be removed in 0.15, please use 'weights' instead.\n",
            "  f\"The parameter '{pretrained_param}' is deprecated since 0.13 and will be removed in 0.15, \"\n",
            "/usr/local/lib/python3.7/dist-packages/torchvision/models/_utils.py:223: UserWarning: Arguments other than a weight enum or `None` for 'weights' are deprecated since 0.13 and will be removed in 0.15. The current behavior is equivalent to passing `weights=MobileNet_V2_Weights.IMAGENET1K_V1`. You can also use `weights=MobileNet_V2_Weights.DEFAULT` to get the most up-to-date weights.\n",
            "  warnings.warn(msg)\n",
            "Downloading: \"https://download.pytorch.org/models/mobilenet_v2-b0353104.pth\" to /root/.cache/torch/hub/checkpoints/mobilenet_v2-b0353104.pth\n"
          ]
        },
        {
          "output_type": "display_data",
          "data": {
            "text/plain": [
              "  0%|          | 0.00/13.6M [00:00<?, ?B/s]"
            ],
            "application/vnd.jupyter.widget-view+json": {
              "version_major": 2,
              "version_minor": 0,
              "model_id": "ff6405e8091342efa198e240679fbc45"
            }
          },
          "metadata": {}
        },
        {
          "output_type": "stream",
          "name": "stderr",
          "text": [
            "Converting PyTorch Frontend ==> MIL Ops: 100%|█████████▉| 381/382 [00:00<00:00, 2155.90 ops/s]\n",
            "Running MIL Common passes:   0%|          | 0/38 [00:00<?, ? passes/s]/usr/local/lib/python3.7/dist-packages/coremltools/converters/mil/mil/passes/name_sanitization_utils.py:129: UserWarning: Output, '823', of the source model, has been renamed to 'var_823' in the Core ML model.\n",
            "  warnings.warn(msg.format(var.name, new_name))\n",
            "Running MIL Common passes: 100%|██████████| 38/38 [00:00<00:00, 59.43 passes/s]\n",
            "Running MIL Clean up passes: 100%|██████████| 11/11 [00:00<00:00, 98.84 passes/s]\n",
            "Translating MIL ==> NeuralNetwork Ops: 100%|██████████| 496/496 [00:00<00:00, 1467.11 ops/s]\n"
          ]
        }
      ]
    },
    {
      "cell_type": "code",
      "source": [
        "from PIL import Image\n",
        "import requests\n",
        "import torch\n",
        "from torchvision import models, transforms\n",
        "\n",
        "url = \"https://upload.wikimedia.org/wikipedia/commons/c/ca/Pomeranian.JPG\"\n",
        "\n",
        "response = requests.get(url)\n",
        "image = response.content\n",
        "file_name = \"pomeranian.jpg\"\n",
        "with open(file_name, \"wb\") as f:\n",
        "    f.write(image)\n",
        "\n",
        "\n",
        "preprocess = transforms.Compose([\n",
        "    transforms.Resize(224),\n",
        "    transforms.CenterCrop(224),\n",
        "    transforms.ToTensor(),\n",
        "    transforms.Normalize(\n",
        "        mean=[0.485, 0.456, 0.406],\n",
        "        std=[0.229, 0.224, 0.225]\n",
        "    )\n",
        "])\n",
        "\n",
        "\n",
        "sample_img = Image.open(\"/content/pomeranian.jpg\")\n",
        "display(sample_img)"
      ],
      "metadata": {
        "id": "GV9HKatsadB0"
      },
      "execution_count": null,
      "outputs": []
    },
    {
      "cell_type": "code",
      "source": [
        "from torch.nn import functional as F\n",
        "\n",
        "img_tensor = preprocess(sample_img) #[3,224,224]\n",
        "input = img_tensor.unsqueeze(0) #[1,3,224,224]\n",
        "output = base_model(input)\n",
        "\n",
        "probs = F.softmax(output, dim=1)\n",
        "probs, indices = probs.sort(dim=1, descending=True)\n",
        "\n",
        "for probs, indices in zip(probs, indices):\n",
        "    for k in range(3):\n",
        "        print(f\"Top-{k + 1} {class_labels[indices[k]]} {probs[k]:.2%}\")\n",
        "\n"
      ],
      "metadata": {
        "colab": {
          "base_uri": "https://localhost:8080/"
        },
        "id": "yVSibY82qliA",
        "outputId": "1636edc7-6493-4fc0-fc5e-b3cb3f54284f"
      },
      "execution_count": 5,
      "outputs": [
        {
          "output_type": "stream",
          "name": "stdout",
          "text": [
            "Top-1 Pomeranian 98.85%\n",
            "Top-2 chow 0.71%\n",
            "Top-3 keeshond 0.19%\n"
          ]
        }
      ]
    },
    {
      "cell_type": "code",
      "source": [
        "#########################\n",
        "# Convert TensorfFlow model  #\n",
        "#########################\n",
        "\n",
        "%tensorflow_version 2.x\n",
        "import tensorflow as tf\n",
        "\n",
        "keras_model = tf.keras.applications.MobileNetV2(\n",
        "    weights=\"imagenet\", \n",
        "    input_shape=(224, 224, 3,),\n",
        "    classes=1000,\n",
        ")\n",
        "\n",
        "# Download class labels (from a separate file)\n",
        "import urllib\n",
        "label_url = 'https://storage.googleapis.com/download.tensorflow.org/data/ImageNetLabels.txt'\n",
        "class_labels = urllib.request.urlopen(label_url).read().splitlines()\n",
        "class_labels = class_labels[1:] # remove the first class which is background\n",
        "assert len(class_labels) == 1000\n",
        "\n",
        "# make sure entries of class_labels are strings\n",
        "for i, label in enumerate(class_labels):\n",
        "  if isinstance(label, bytes):\n",
        "    class_labels[i] = label.decode(\"utf8\")\n",
        "\n",
        "\n",
        "!pip install -U coremltools\n",
        "\n",
        "import coremltools as ct\n",
        "\n",
        "# Define the input type as image, \n",
        "# set pre-processing parameters to normalize the image \n",
        "# to have its values in the interval [-1,1] \n",
        "# as expected by the mobilenet model\n",
        "image_input = ct.ImageType(shape=(1, 224, 224, 3,),\n",
        "                           bias=[-1,-1,-1], scale=1/127)\n",
        "\n",
        "# set class labels\n",
        "classifier_config = ct.ClassifierConfig(class_labels)\n",
        "\n",
        "# Convert the model using the Unified Conversion API\n",
        "model = ct.convert(\n",
        "    keras_model, inputs=[image_input], classifier_config=classifier_config,\n",
        ")\n",
        "\n",
        "# Set feature descriptions (these show up as comments in XCode)\n",
        "model.input_description[\"input_1\"] = \"Input image to be classified\"\n",
        "model.output_description[\"classLabel\"] = \"Most likely image category\"\n",
        "\n",
        "# Set model author name\n",
        "model.author = '\"Original Paper: Mark Sandler, Andrew Howard, Menglong Zhu, Andrey Zhmoginov, Liang-Chieh Chen'\n",
        "\n",
        "# Set the license of the model\n",
        "model.license = \"Please see https://github.com/tensorflow/tensorflow for license information, and https://github.com/tensorflow/models/tree/master/research/slim/nets/mobilenet for the original source of the model.\"\n",
        "\n",
        "# Set a short description for the Xcode UI\n",
        "model.short_description = \"Detects the dominant objects present in an image from a set of 1001 categories such as trees, animals, food, vehicles, person etc. The top-1 accuracy from the original publication is 74.7%.\"\n",
        "\n",
        "# Set a version for the model\n",
        "model.version = \"2.0\"\n",
        "\n",
        "\n",
        "# Save model\n",
        "model.save(\"MobileNetV2.mlmodel\")\n",
        "                  \n",
        "# Load a saved model\n",
        "loaded_model = ct.models.MLModel(\"MobileNetV2.mlmodel\")"
      ],
      "metadata": {
        "colab": {
          "base_uri": "https://localhost:8080/"
        },
        "id": "zPF07tIbcr-O",
        "outputId": "7eeb09a4-6380-4cf9-dc6e-a5aa83f1faa0"
      },
      "execution_count": null,
      "outputs": [
        {
          "output_type": "stream",
          "name": "stdout",
          "text": [
            "Colab only includes TensorFlow 2.x; %tensorflow_version has no effect.\n",
            "Downloading data from https://storage.googleapis.com/tensorflow/keras-applications/mobilenet_v2/mobilenet_v2_weights_tf_dim_ordering_tf_kernels_1.0_224.h5\n",
            "14540800/14536120 [==============================] - 0s 0us/step\n",
            "14548992/14536120 [==============================] - 0s 0us/step\n",
            "Looking in indexes: https://pypi.org/simple, https://us-python.pkg.dev/colab-wheels/public/simple/\n",
            "Collecting coremltools\n",
            "  Downloading coremltools-6.0-cp37-none-manylinux1_x86_64.whl (1.5 MB)\n",
            "\u001b[K     |████████████████████████████████| 1.5 MB 4.9 MB/s \n",
            "\u001b[?25hRequirement already satisfied: numpy>=1.14.5 in /usr/local/lib/python3.7/dist-packages (from coremltools) (1.21.6)\n",
            "Requirement already satisfied: sympy in /usr/local/lib/python3.7/dist-packages (from coremltools) (1.7.1)\n",
            "Requirement already satisfied: packaging in /usr/local/lib/python3.7/dist-packages (from coremltools) (21.3)\n",
            "Requirement already satisfied: protobuf<=3.20.1,>=3.1.0 in /usr/local/lib/python3.7/dist-packages (from coremltools) (3.17.3)\n",
            "Requirement already satisfied: tqdm in /usr/local/lib/python3.7/dist-packages (from coremltools) (4.64.1)\n",
            "Requirement already satisfied: six>=1.9 in /usr/local/lib/python3.7/dist-packages (from protobuf<=3.20.1,>=3.1.0->coremltools) (1.15.0)\n",
            "Requirement already satisfied: pyparsing!=3.0.5,>=2.0.2 in /usr/local/lib/python3.7/dist-packages (from packaging->coremltools) (3.0.9)\n",
            "Requirement already satisfied: mpmath>=0.19 in /usr/local/lib/python3.7/dist-packages (from sympy->coremltools) (1.2.1)\n",
            "Installing collected packages: coremltools\n",
            "Successfully installed coremltools-6.0\n"
          ]
        },
        {
          "output_type": "stream",
          "name": "stderr",
          "text": [
            "WARNING:root:TensorFlow version 2.8.2 has not been tested with coremltools. You may run into unexpected errors. TensorFlow 2.8.0 is the most recent version that has been tested.\n",
            "Running TensorFlow Graph Passes: 100%|██████████| 6/6 [00:00<00:00,  9.87 passes/s]\n",
            "Converting TF Frontend ==> MIL Ops: 100%|██████████| 426/426 [00:00<00:00, 1183.23 ops/s]\n",
            "Running MIL Common passes: 100%|██████████| 38/38 [00:01<00:00, 30.05 passes/s]\n",
            "Running MIL Clean up passes: 100%|██████████| 11/11 [00:00<00:00, 99.35 passes/s]\n",
            "Translating MIL ==> NeuralNetwork Ops: 100%|██████████| 487/487 [00:00<00:00, 1526.54 ops/s]\n"
          ]
        }
      ]
    },
    {
      "cell_type": "markdown",
      "metadata": {
        "id": "9UTkwyDEAp-m"
      },
      "source": [
        "#**新しく学習を行う場合（MNISTの例）**<br>\n",
        "\n",
        "\n",
        "\n",
        "\n",
        "参考サイト：<br>\n",
        "https://qiita.com/shu223/items/6ddfbedb4fdfb2059a11<br>\n",
        "https://chemicalfactory.hatenablog.com/entry/2020/01/26/230114"
      ]
    },
    {
      "cell_type": "markdown",
      "metadata": {
        "id": "G4j02ilw8Xvl"
      },
      "source": [
        "MNISTの学習"
      ]
    },
    {
      "cell_type": "code",
      "metadata": {
        "colab": {
          "base_uri": "https://localhost:8080/"
        },
        "id": "XzjlLwKWP2UP",
        "outputId": "7efcb9f2-c5f4-498f-aedb-a3e8126409a7"
      },
      "source": [
        "import torch\n",
        "import torchvision\n",
        "import torch.nn as nn\n",
        "import torch.optim as optim\n",
        "import torch.nn.functional as F\n",
        "import torchvision.transforms as transforms\n",
        "device = torch.device(\"cuda:0\" if torch.cuda.is_available() else \"cpu\")\n",
        "\n",
        "\n",
        "\n",
        "batch_size = 10\n",
        "\n",
        "trainset = torchvision.datasets.MNIST(root='./data', train=True,\n",
        "                                        download=True, transform=transforms.Compose([transforms.Grayscale(), transforms.Resize(28), transforms.ToTensor(), transforms.Normalize((0.5,),(0.5,))]))\n",
        "trainloader = torch.utils.data.DataLoader(trainset, batch_size=batch_size,\n",
        "                                            shuffle=True, num_workers=0)\n",
        "\n",
        "testset = torchvision.datasets.MNIST(root='./data', train=False, \n",
        "                                        download=True, transform=transforms.Compose([transforms.Grayscale(), transforms.Resize(28), transforms.ToTensor(), transforms.Normalize((0.5,),(0.5,))]))\n",
        "testloader = torch.utils.data.DataLoader(testset, batch_size=batch_size,\n",
        "                                            shuffle=False, num_workers=0)\n",
        "\n",
        "class MNIST_Conv_MN(nn.Module):\n",
        "    def __init__(self):\n",
        "        super(MNIST_Conv_MN, self).__init__()\n",
        "        self.conv1 = nn.Conv2d(1, 8, 3) \n",
        "        self.pooling = nn.MaxPool2d(2, 2) \n",
        "        self.fc1 = nn.Linear(13 * 13 * 8, 10)\n",
        "\n",
        "    def forward(self, x):\n",
        "        x = self.conv1(x)\n",
        "        x = F.relu(x)\n",
        "        x = self.pooling(x)\n",
        "        x = x.view(-1, 13 * 13 * 8)\n",
        "        x = self.fc1(x)\n",
        "        return x\n",
        "    \n",
        "model=MNIST_Conv_MN().to(device)\n",
        "criterion = nn.CrossEntropyLoss()\n",
        "optimizer = optim.Adam(model.parameters())\n",
        "\n",
        "num_epochs = 10\n",
        "\n",
        "for epoch in range(num_epochs):\n",
        "    \n",
        "    train_loss = 0\n",
        "    train_acc = 0\n",
        "    val_loss = 0\n",
        "    val_acc = 0\n",
        "    \n",
        "    model.train()\n",
        "    for i, (inputs, labels) in enumerate(trainloader):\n",
        "        inputs, labels = inputs.to(device), labels.to(device)\n",
        "\n",
        "        optimizer.zero_grad()\n",
        "        outputs = model(inputs)\n",
        "        loss = criterion(outputs, labels)\n",
        "        \n",
        "        train_loss += loss.item()\n",
        "        train_acc += (outputs.max(1)[1] == labels).sum().item()\n",
        "        loss.backward()\n",
        "        optimizer.step()\n",
        "    avg_train_loss = train_loss / len(trainloader.dataset)\n",
        "    avg_train_acc = train_acc / len(trainloader.dataset)\n",
        "\n",
        "    model.eval()\n",
        "    with torch.no_grad():\n",
        "        for inputs, labels in testloader:\n",
        "            inputs, labels = inputs.to(device), labels.to(device)\n",
        "            outputs = model(inputs)\n",
        "            loss = criterion(outputs, labels)\n",
        "            val_loss += loss.item()\n",
        "            val_acc += (outputs.max(1)[1] == labels).sum().item()\n",
        "        avg_val_loss = val_loss / len(testloader.dataset)\n",
        "        avg_val_acc = val_acc / len(testloader.dataset)\n",
        "        \n",
        "        print(\"Epoch [{}/{}], Loss: {loss:.4f}, val_loss: {val_loss:.4f}, val_acc: {val_acc:.4f}\"\\\n",
        "              .format(epoch+1, num_epochs, i+1, loss=avg_train_loss, val_loss=avg_val_loss, val_acc=avg_val_acc))\n",
        "        \n",
        "torch.save(model.state_dict(), \"MNIST.pth\")"
      ],
      "execution_count": null,
      "outputs": [
        {
          "output_type": "stream",
          "text": [
            "Epoch [1/10], Loss: 0.0190, val_loss: 0.0091, val_acc: 0.9717\n",
            "Epoch [2/10], Loss: 0.0084, val_loss: 0.0070, val_acc: 0.9781\n",
            "Epoch [3/10], Loss: 0.0065, val_loss: 0.0069, val_acc: 0.9788\n",
            "Epoch [4/10], Loss: 0.0054, val_loss: 0.0067, val_acc: 0.9799\n",
            "Epoch [5/10], Loss: 0.0048, val_loss: 0.0066, val_acc: 0.9803\n",
            "Epoch [6/10], Loss: 0.0042, val_loss: 0.0063, val_acc: 0.9807\n",
            "Epoch [7/10], Loss: 0.0037, val_loss: 0.0068, val_acc: 0.9795\n",
            "Epoch [8/10], Loss: 0.0034, val_loss: 0.0069, val_acc: 0.9801\n",
            "Epoch [9/10], Loss: 0.0031, val_loss: 0.0063, val_acc: 0.9821\n",
            "Epoch [10/10], Loss: 0.0027, val_loss: 0.0066, val_acc: 0.9819\n"
          ],
          "name": "stdout"
        }
      ]
    },
    {
      "cell_type": "markdown",
      "metadata": {
        "id": "7aNStG_h8cqP"
      },
      "source": [
        "MNISTをCoreMLに変換"
      ]
    },
    {
      "cell_type": "code",
      "metadata": {
        "colab": {
          "base_uri": "https://localhost:8080/"
        },
        "id": "-g9jCeFiA7uT",
        "outputId": "9928d0a6-a8b7-4fd7-85a8-46466f30e449"
      },
      "source": [
        "#import coreML ver4.0\n",
        "!pip install -U coremltools\n",
        "import coremltools as ct\n",
        "\n",
        "\n",
        "class MNIST_Conv_MN(nn.Module):\n",
        "    def __init__(self):\n",
        "        super(MNIST_Conv_MN, self).__init__()\n",
        "        self.conv1 = nn.Conv2d(1, 8, 3) \n",
        "        self.pooling = nn.MaxPool2d(2, 2) \n",
        "        self.fc1 = nn.Linear(13 * 13 * 8, 10)\n",
        "\n",
        "    def forward(self, x):\n",
        "        x = self.conv1(x)\n",
        "        x = F.relu(x)\n",
        "        x = self.pooling(x)\n",
        "        x = x.view(-1, 13 * 13 * 8)\n",
        "        x = self.fc1(x)\n",
        "        return x\n",
        "\n",
        "model = MNIST_Conv_MN()\n",
        "model.load_state_dict(torch.load('MNIST.pth'))\n",
        "model.eval()\n",
        "\n",
        "scripted_model = torch.jit.script(model)\n",
        "\n",
        "#サイズの合ったランダムな入力を行う\n",
        "example_input = torch.rand(1,1,28,28)\n",
        "traced = torch.jit.trace(model, example_input)\n",
        "\n",
        "#class_labelの設定\n",
        "class_labels = list(range(10))\n",
        "\n",
        "#traced.save(\"model.pt\")\n",
        "mlmodel = ct.convert(\n",
        "    traced, \n",
        "    inputs=[ct.TensorType(name=\"input_1\", shape=example_input.shape)],\n",
        "    classifier_config = ct.ClassifierConfig(class_labels) \n",
        ")\n",
        "mlmodel.save('MNIST.mlmodel')"
      ],
      "execution_count": null,
      "outputs": [
        {
          "output_type": "stream",
          "text": [
            "Requirement already up-to-date: coremltools in /usr/local/lib/python3.7/dist-packages (4.1)\n",
            "Requirement already satisfied, skipping upgrade: packaging in /usr/local/lib/python3.7/dist-packages (from coremltools) (20.9)\n",
            "Requirement already satisfied, skipping upgrade: six>=1.10.0 in /usr/local/lib/python3.7/dist-packages (from coremltools) (1.15.0)\n",
            "Requirement already satisfied, skipping upgrade: attrs in /usr/local/lib/python3.7/dist-packages (from coremltools) (20.3.0)\n",
            "Requirement already satisfied, skipping upgrade: numpy<1.20,>=1.14.5 in /usr/local/lib/python3.7/dist-packages (from coremltools) (1.19.5)\n",
            "Requirement already satisfied, skipping upgrade: tqdm in /usr/local/lib/python3.7/dist-packages (from coremltools) (4.41.1)\n",
            "Requirement already satisfied, skipping upgrade: scipy in /usr/local/lib/python3.7/dist-packages (from coremltools) (1.4.1)\n",
            "Requirement already satisfied, skipping upgrade: protobuf>=3.1.0 in /usr/local/lib/python3.7/dist-packages (from coremltools) (3.12.4)\n",
            "Requirement already satisfied, skipping upgrade: sympy in /usr/local/lib/python3.7/dist-packages (from coremltools) (1.7.1)\n",
            "Requirement already satisfied, skipping upgrade: attr in /usr/local/lib/python3.7/dist-packages (from coremltools) (0.3.1)\n",
            "Requirement already satisfied, skipping upgrade: pyparsing>=2.0.2 in /usr/local/lib/python3.7/dist-packages (from packaging->coremltools) (2.4.7)\n",
            "Requirement already satisfied, skipping upgrade: setuptools in /usr/local/lib/python3.7/dist-packages (from protobuf>=3.1.0->coremltools) (56.1.0)\n",
            "Requirement already satisfied, skipping upgrade: mpmath>=0.19 in /usr/local/lib/python3.7/dist-packages (from sympy->coremltools) (1.2.1)\n"
          ],
          "name": "stdout"
        },
        {
          "output_type": "stream",
          "text": [
            "Converting Frontend ==> MIL Ops:   0%|          | 0/26 [00:00<?, ? ops/s]\n",
            "Running MIL optimization passes: 100%|██████████| 18/18 [00:00<00:00, 1078.23 passes/s]\n",
            "Translating MIL ==> MLModel Ops: 100%|██████████| 19/19 [00:00<00:00, 2773.72 ops/s]\n"
          ],
          "name": "stderr"
        }
      ]
    },
    {
      "cell_type": "code",
      "metadata": {
        "colab": {
          "base_uri": "https://localhost:8080/"
        },
        "id": "f256JjKpDTUT",
        "outputId": "c04a7ced-3147-4727-dc88-ced40ce8bbc8"
      },
      "source": [
        "from torchsummary import summary\n",
        "summary(model, (1, 28, 28))"
      ],
      "execution_count": null,
      "outputs": [
        {
          "output_type": "stream",
          "text": [
            "----------------------------------------------------------------\n",
            "        Layer (type)               Output Shape         Param #\n",
            "================================================================\n",
            "            Conv2d-1            [-1, 8, 26, 26]              80\n",
            "         MaxPool2d-2            [-1, 8, 13, 13]               0\n",
            "            Linear-3                   [-1, 10]          13,530\n",
            "================================================================\n",
            "Total params: 13,610\n",
            "Trainable params: 13,610\n",
            "Non-trainable params: 0\n",
            "----------------------------------------------------------------\n",
            "Input size (MB): 0.00\n",
            "Forward/backward pass size (MB): 0.05\n",
            "Params size (MB): 0.05\n",
            "Estimated Total Size (MB): 0.11\n",
            "----------------------------------------------------------------\n"
          ],
          "name": "stdout"
        }
      ]
    },
    {
      "cell_type": "code",
      "metadata": {
        "id": "jwG2bwAv6U4a"
      },
      "source": [
        "from PIL import Image\n",
        "img = Image.open(\"/content/pytorch-list-of-transforms_01.jpg\")\n",
        "display(img)\n"
      ],
      "execution_count": null,
      "outputs": []
    },
    {
      "cell_type": "code",
      "metadata": {
        "id": "6Ut0zvFt6jnS"
      },
      "source": [],
      "execution_count": null,
      "outputs": []
    }
  ]
}